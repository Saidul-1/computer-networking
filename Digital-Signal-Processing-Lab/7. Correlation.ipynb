{
 "cells": [
  {
   "cell_type": "markdown",
   "id": "708c2a5c",
   "metadata": {},
   "source": [
    " Given x(n)=[1,3,−2,4] y(n)=[2,3,−1,3] z(n)=[2,−1,4,−2]\n",
    "Find the correlation between x(n) & y(n) and y(n) & z(n). ⟹ observe the\n",
    "realization. "
   ]
  },
  {
   "cell_type": "markdown",
   "id": "5560003d",
   "metadata": {},
   "source": [
    "Correlation is a measure of similarity between two signals as a function of the time shift applied to one of them.\n",
    "\n",
    "Cross-correlation measures the similarity of two signals x[n] and y[n] as a function of the time lag (shift) ℓ. It indicates how much one signal matches a shifted version of the other.\n",
    "For discrete sequences x[n] and y[n] of length N:\n",
    "Cross-correlation rₓᵧ[l] = Σ x[n] y[n-l] for n from 0 to N-1\n",
    "Properties:\n",
    "    Not commutative: rₓᵧ[l] ≠ rᵧₓ[l]\n",
    "    rₓᵧ[l] = rᵧₓ[-l]\n",
    "\n",
    "Autocorrelation:\n",
    "\n",
    "Definition: A special case of cross-correlation where a signal is correlated with itself (R \n",
    "xx[ℓ]). It reveals periodicity and repeating patterns within a single signal.    \n",
    "\n",
    "=> Convulation: one signal is time-reversed before shifting but Correlation: No time reversal"
   ]
  },
  {
   "cell_type": "code",
   "execution_count": 3,
   "id": "6c36a160",
   "metadata": {},
   "outputs": [
    {
     "data": {
      "image/png": "[encoded data removed]",
      "text/plain": [
       "<Figure size 640x480 with 2 Axes>"
      ]
     },
     "metadata": {},
     "output_type": "display_data"
    }
   ],
   "source": [
    "import numpy as np\n",
    "import matplotlib.pyplot as plt\n",
    "\n",
    "def convolve(x, h):\n",
    "    y_len = len(x)+len(h)-1\n",
    "    y = [0]*y_len\n",
    "    for i in range(y_len):\n",
    "        for k in range(len(x)):\n",
    "            if(i-k >= 0 and i-k < len(h)):\n",
    "                y[i] += x[k]*h[i-k]\n",
    "\n",
    "    return y\n",
    "\n",
    "x = np.array([1, 3, -2, 4])\n",
    "y = np.array([2,3,-1,3])\n",
    "z = np.array([2,-1,4,-2])\n",
    "\n",
    "#cross correlation\n",
    "ccxy = convolve(x, y[::-1])\n",
    "ccyz = convolve(x, z[::-1])\n",
    "\n",
    "plt.subplot(2, 1, 1)\n",
    "plt.stem(np.arange(len(ccxy)), ccxy)\n",
    "\n",
    "plt.subplot(2, 1, 2)\n",
    "plt.stem(np.arange(len(ccyz)), ccyz)\n",
    "\n",
    "plt.show()\n"
   ]
  }
 ],
 "metadata": {
  "kernelspec": {
   "display_name": "Python 3",
   "language": "python",
   "name": "python3"
  },
  "language_info": {
   "codemirror_mode": {
    "name": "ipython",
    "version": 3
   },
   "file_extension": ".py",
   "mimetype": "text/x-python",
   "name": "python",
   "nbconvert_exporter": "python",
   "pygments_lexer": "ipython3",
   "version": "3.12.3"
  }
 },
 "nbformat": 4,
 "nbformat_minor": 5
}
